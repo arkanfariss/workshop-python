{
 "cells": [
  {
   "cell_type": "code",
   "execution_count": 4,
   "id": "communist-shelf",
   "metadata": {},
   "outputs": [
    {
     "ename": "SyntaxError",
     "evalue": "invalid syntax (<ipython-input-4-a1b356ede6c6>, line 1)",
     "output_type": "error",
     "traceback": [
      "\u001b[1;36m  File \u001b[1;32m\"<ipython-input-4-a1b356ede6c6>\"\u001b[1;36m, line \u001b[1;32m1\u001b[0m\n\u001b[1;33m    python3 -m venv tutorial-env\u001b[0m\n\u001b[1;37m               ^\u001b[0m\n\u001b[1;31mSyntaxError\u001b[0m\u001b[1;31m:\u001b[0m invalid syntax\n"
     ]
    }
   ],
   "source": [
    "python3 -m venv tutorial-env"
   ]
  },
  {
   "cell_type": "code",
   "execution_count": 5,
   "id": "amino-position",
   "metadata": {},
   "outputs": [
    {
     "ename": "SyntaxError",
     "evalue": "unexpected character after line continuation character (<ipython-input-5-46f339b31639>, line 1)",
     "output_type": "error",
     "traceback": [
      "\u001b[1;36m  File \u001b[1;32m\"<ipython-input-5-46f339b31639>\"\u001b[1;36m, line \u001b[1;32m1\u001b[0m\n\u001b[1;33m    tutorial-env\\Scripts\\activate.bat\u001b[0m\n\u001b[1;37m                                     ^\u001b[0m\n\u001b[1;31mSyntaxError\u001b[0m\u001b[1;31m:\u001b[0m unexpected character after line continuation character\n"
     ]
    }
   ],
   "source": [
    "tutorial-env\\Scripts\\activate.bat"
   ]
  },
  {
   "cell_type": "code",
   "execution_count": 6,
   "id": "paperback-designer",
   "metadata": {},
   "outputs": [
    {
     "ename": "NameError",
     "evalue": "name 'python' is not defined",
     "output_type": "error",
     "traceback": [
      "\u001b[1;31m---------------------------------------------------------------------------\u001b[0m",
      "\u001b[1;31mNameError\u001b[0m                                 Traceback (most recent call last)",
      "\u001b[1;32m<ipython-input-6-32886514c262>\u001b[0m in \u001b[0;36m<module>\u001b[1;34m\u001b[0m\n\u001b[1;32m----> 1\u001b[1;33m \u001b[0mpython\u001b[0m\u001b[1;33m\u001b[0m\u001b[1;33m\u001b[0m\u001b[0m\n\u001b[0m",
      "\u001b[1;31mNameError\u001b[0m: name 'python' is not defined"
     ]
    }
   ],
   "source": [
    "python"
   ]
  },
  {
   "cell_type": "code",
   "execution_count": 7,
   "id": "respective-prague",
   "metadata": {},
   "outputs": [],
   "source": [
    "import sys"
   ]
  },
  {
   "cell_type": "code",
   "execution_count": 8,
   "id": "alive-disabled",
   "metadata": {},
   "outputs": [
    {
     "data": {
      "text/plain": [
       "['C:\\\\Users\\\\POTATO\\\\Documents\\\\GitHub\\\\workshop-python\\\\minggu-09\\\\src',\n",
       " 'C:\\\\Users\\\\POTATO\\\\.conda\\\\envs\\\\pyton\\\\python38.zip',\n",
       " 'C:\\\\Users\\\\POTATO\\\\.conda\\\\envs\\\\pyton\\\\DLLs',\n",
       " 'C:\\\\Users\\\\POTATO\\\\.conda\\\\envs\\\\pyton\\\\lib',\n",
       " 'C:\\\\Users\\\\POTATO\\\\.conda\\\\envs\\\\pyton',\n",
       " '',\n",
       " 'C:\\\\Users\\\\POTATO\\\\.conda\\\\envs\\\\pyton\\\\lib\\\\site-packages',\n",
       " 'C:\\\\Users\\\\POTATO\\\\.conda\\\\envs\\\\pyton\\\\lib\\\\site-packages\\\\win32',\n",
       " 'C:\\\\Users\\\\POTATO\\\\.conda\\\\envs\\\\pyton\\\\lib\\\\site-packages\\\\win32\\\\lib',\n",
       " 'C:\\\\Users\\\\POTATO\\\\.conda\\\\envs\\\\pyton\\\\lib\\\\site-packages\\\\Pythonwin',\n",
       " 'C:\\\\Users\\\\POTATO\\\\.conda\\\\envs\\\\pyton\\\\lib\\\\site-packages\\\\IPython\\\\extensions',\n",
       " 'C:\\\\Users\\\\POTATO\\\\.ipython']"
      ]
     },
     "execution_count": 8,
     "metadata": {},
     "output_type": "execute_result"
    }
   ],
   "source": [
    "sys.path"
   ]
  },
  {
   "cell_type": "code",
   "execution_count": 9,
   "id": "verified-contrast",
   "metadata": {},
   "outputs": [
    {
     "name": "stdout",
     "output_type": "stream",
     "text": [
      "Collecting novas\n",
      "  Using cached novas-3.1.1.5.tar.gz (135 kB)\n",
      "  Downloading novas-3.1.1.4.tar.gz (139 kB)\n",
      "  Downloading novas-3.1.1.3.tar.gz (136 kB)\n",
      "  Downloading novas-3.1.1.2.tar.gz (136 kB)\n",
      "  Downloading novas-3.1.1.1.tar.gz (135 kB)\n",
      "  Downloading novas-3.1.1.tar.gz (133 kB)\n",
      "  Downloading novas-3.1.tar.gz (131 kB)\n",
      "Note: you may need to restart the kernel to use updated packages.\n"
     ]
    },
    {
     "name": "stderr",
     "output_type": "stream",
     "text": [
      "    ERROR: Command errored out with exit status 1:\n",
      "     command: 'C:\\Users\\POTATO\\.conda\\envs\\pyton\\python.exe' -c 'import sys, setuptools, tokenize; sys.argv[0] = '\"'\"'C:\\\\Users\\\\POTATO\\\\AppData\\\\Local\\\\Temp\\\\pip-install-stttl4ir\\\\novas_c0bcbfb4b0f548679ed911c2595f764d\\\\setup.py'\"'\"'; __file__='\"'\"'C:\\\\Users\\\\POTATO\\\\AppData\\\\Local\\\\Temp\\\\pip-install-stttl4ir\\\\novas_c0bcbfb4b0f548679ed911c2595f764d\\\\setup.py'\"'\"';f=getattr(tokenize, '\"'\"'open'\"'\"', open)(__file__);code=f.read().replace('\"'\"'\\r\\n'\"'\"', '\"'\"'\\n'\"'\"');f.close();exec(compile(code, __file__, '\"'\"'exec'\"'\"'))' egg_info --egg-base 'C:\\Users\\POTATO\\AppData\\Local\\Temp\\pip-pip-egg-info-ezucmtn7'\n",
      "         cwd: C:\\Users\\POTATO\\AppData\\Local\\Temp\\pip-install-stttl4ir\\novas_c0bcbfb4b0f548679ed911c2595f764d\\\n",
      "    Complete output (7 lines):\n",
      "    Traceback (most recent call last):\n",
      "      File \"<string>\", line 1, in <module>\n",
      "      File \"C:\\Users\\POTATO\\AppData\\Local\\Temp\\pip-install-stttl4ir\\novas_c0bcbfb4b0f548679ed911c2595f764d\\setup.py\", line 214, in <module>\n",
      "        main()\n",
      "      File \"C:\\Users\\POTATO\\AppData\\Local\\Temp\\pip-install-stttl4ir\\novas_c0bcbfb4b0f548679ed911c2595f764d\\setup.py\", line 143, in main\n",
      "        raise OSError(\"Operating system not supported at this time\")\n",
      "    OSError: Operating system not supported at this time\n",
      "    ----------------------------------------\n",
      "WARNING: Discarding https://files.pythonhosted.org/packages/42/95/a05bc35cb119925e10f9faa8a2bd17020b0a585744a38921a709acdd9a14/novas-3.1.1.5.tar.gz#sha256=6784780f03589996c2cd0e2b7e68afbec734d953010612ed0a45ace714761935 (from https://pypi.org/simple/novas/). Command errored out with exit status 1: python setup.py egg_info Check the logs for full command output.\n",
      "    ERROR: Command errored out with exit status 1:\n",
      "     command: 'C:\\Users\\POTATO\\.conda\\envs\\pyton\\python.exe' -c 'import sys, setuptools, tokenize; sys.argv[0] = '\"'\"'C:\\\\Users\\\\POTATO\\\\AppData\\\\Local\\\\Temp\\\\pip-install-stttl4ir\\\\novas_25dc726cab944bddac4feda672c16347\\\\setup.py'\"'\"'; __file__='\"'\"'C:\\\\Users\\\\POTATO\\\\AppData\\\\Local\\\\Temp\\\\pip-install-stttl4ir\\\\novas_25dc726cab944bddac4feda672c16347\\\\setup.py'\"'\"';f=getattr(tokenize, '\"'\"'open'\"'\"', open)(__file__);code=f.read().replace('\"'\"'\\r\\n'\"'\"', '\"'\"'\\n'\"'\"');f.close();exec(compile(code, __file__, '\"'\"'exec'\"'\"'))' egg_info --egg-base 'C:\\Users\\POTATO\\AppData\\Local\\Temp\\pip-pip-egg-info-k74_8oap'\n",
      "         cwd: C:\\Users\\POTATO\\AppData\\Local\\Temp\\pip-install-stttl4ir\\novas_25dc726cab944bddac4feda672c16347\\\n",
      "    Complete output (7 lines):\n",
      "    Traceback (most recent call last):\n",
      "      File \"<string>\", line 1, in <module>\n",
      "      File \"C:\\Users\\POTATO\\AppData\\Local\\Temp\\pip-install-stttl4ir\\novas_25dc726cab944bddac4feda672c16347\\setup.py\", line 211, in <module>\n",
      "        main()\n",
      "      File \"C:\\Users\\POTATO\\AppData\\Local\\Temp\\pip-install-stttl4ir\\novas_25dc726cab944bddac4feda672c16347\\setup.py\", line 143, in main\n",
      "        raise OSError(\"Operating system not supported at this time\")\n",
      "    OSError: Operating system not supported at this time\n",
      "    ----------------------------------------\n",
      "WARNING: Discarding https://files.pythonhosted.org/packages/7b/a3/b4fcb24a9b99f7f6dff371a1e5af96defe08a52c2e44909acb45424ee311/novas-3.1.1.4.tar.gz#sha256=7cf78dee25aef22bdb765156bc861e32da903fd61854182def29099824dff915 (from https://pypi.org/simple/novas/). Command errored out with exit status 1: python setup.py egg_info Check the logs for full command output.\n",
      "    ERROR: Command errored out with exit status 1:\n",
      "     command: 'C:\\Users\\POTATO\\.conda\\envs\\pyton\\python.exe' -c 'import sys, setuptools, tokenize; sys.argv[0] = '\"'\"'C:\\\\Users\\\\POTATO\\\\AppData\\\\Local\\\\Temp\\\\pip-install-stttl4ir\\\\novas_1eeb5f7c552449dabbc247b0789cd032\\\\setup.py'\"'\"'; __file__='\"'\"'C:\\\\Users\\\\POTATO\\\\AppData\\\\Local\\\\Temp\\\\pip-install-stttl4ir\\\\novas_1eeb5f7c552449dabbc247b0789cd032\\\\setup.py'\"'\"';f=getattr(tokenize, '\"'\"'open'\"'\"', open)(__file__);code=f.read().replace('\"'\"'\\r\\n'\"'\"', '\"'\"'\\n'\"'\"');f.close();exec(compile(code, __file__, '\"'\"'exec'\"'\"'))' egg_info --egg-base 'C:\\Users\\POTATO\\AppData\\Local\\Temp\\pip-pip-egg-info-az4xphr_'\n",
      "         cwd: C:\\Users\\POTATO\\AppData\\Local\\Temp\\pip-install-stttl4ir\\novas_1eeb5f7c552449dabbc247b0789cd032\\\n",
      "    Complete output (7 lines):\n",
      "    Traceback (most recent call last):\n",
      "      File \"<string>\", line 1, in <module>\n",
      "      File \"C:\\Users\\POTATO\\AppData\\Local\\Temp\\pip-install-stttl4ir\\novas_1eeb5f7c552449dabbc247b0789cd032\\setup.py\", line 213, in <module>\n",
      "        main()\n",
      "      File \"C:\\Users\\POTATO\\AppData\\Local\\Temp\\pip-install-stttl4ir\\novas_1eeb5f7c552449dabbc247b0789cd032\\setup.py\", line 141, in main\n",
      "        raise OSError(\"Operating system not supported at this time\")\n",
      "    OSError: Operating system not supported at this time\n",
      "    ----------------------------------------\n",
      "WARNING: Discarding https://files.pythonhosted.org/packages/3e/92/751b80e1dd8ad6edf57c617e1bb12eb36dbef6e0b63df47659fa0db2b379/novas-3.1.1.3.tar.gz#sha256=9a4e352c02e993bb7535e65b0af826a96b732da457ed767e7536c6111bea5849 (from https://pypi.org/simple/novas/). Command errored out with exit status 1: python setup.py egg_info Check the logs for full command output.\n",
      "    ERROR: Command errored out with exit status 1:\n",
      "     command: 'C:\\Users\\POTATO\\.conda\\envs\\pyton\\python.exe' -c 'import sys, setuptools, tokenize; sys.argv[0] = '\"'\"'C:\\\\Users\\\\POTATO\\\\AppData\\\\Local\\\\Temp\\\\pip-install-stttl4ir\\\\novas_2433afea77274b049afbff64a18c2193\\\\setup.py'\"'\"'; __file__='\"'\"'C:\\\\Users\\\\POTATO\\\\AppData\\\\Local\\\\Temp\\\\pip-install-stttl4ir\\\\novas_2433afea77274b049afbff64a18c2193\\\\setup.py'\"'\"';f=getattr(tokenize, '\"'\"'open'\"'\"', open)(__file__);code=f.read().replace('\"'\"'\\r\\n'\"'\"', '\"'\"'\\n'\"'\"');f.close();exec(compile(code, __file__, '\"'\"'exec'\"'\"'))' egg_info --egg-base 'C:\\Users\\POTATO\\AppData\\Local\\Temp\\pip-pip-egg-info-99nhe69r'\n",
      "         cwd: C:\\Users\\POTATO\\AppData\\Local\\Temp\\pip-install-stttl4ir\\novas_2433afea77274b049afbff64a18c2193\\\n",
      "    Complete output (7 lines):\n",
      "    Traceback (most recent call last):\n",
      "      File \"<string>\", line 1, in <module>\n",
      "      File \"C:\\Users\\POTATO\\AppData\\Local\\Temp\\pip-install-stttl4ir\\novas_2433afea77274b049afbff64a18c2193\\setup.py\", line 213, in <module>\n",
      "        main()\n",
      "      File \"C:\\Users\\POTATO\\AppData\\Local\\Temp\\pip-install-stttl4ir\\novas_2433afea77274b049afbff64a18c2193\\setup.py\", line 141, in main\n",
      "        raise OSError(\"Operating system not supported at this time\")\n",
      "    OSError: Operating system not supported at this time\n",
      "    ----------------------------------------\n",
      "WARNING: Discarding https://files.pythonhosted.org/packages/38/58/727f3ed35360c5d7a21868be8c12b8c051fbbcdbb23d0a2c58a8ec3c9bcc/novas-3.1.1.2.tar.gz#sha256=8abbcfcc9fb4df8335517abe54ca8fc992cf2e23a7f699c8d15a4b4ebdac5c75 (from https://pypi.org/simple/novas/). Command errored out with exit status 1: python setup.py egg_info Check the logs for full command output.\n",
      "    ERROR: Command errored out with exit status 1:\n",
      "     command: 'C:\\Users\\POTATO\\.conda\\envs\\pyton\\python.exe' -c 'import sys, setuptools, tokenize; sys.argv[0] = '\"'\"'C:\\\\Users\\\\POTATO\\\\AppData\\\\Local\\\\Temp\\\\pip-install-stttl4ir\\\\novas_a6ff9efad3e34af596f2e14991d81e61\\\\setup.py'\"'\"'; __file__='\"'\"'C:\\\\Users\\\\POTATO\\\\AppData\\\\Local\\\\Temp\\\\pip-install-stttl4ir\\\\novas_a6ff9efad3e34af596f2e14991d81e61\\\\setup.py'\"'\"';f=getattr(tokenize, '\"'\"'open'\"'\"', open)(__file__);code=f.read().replace('\"'\"'\\r\\n'\"'\"', '\"'\"'\\n'\"'\"');f.close();exec(compile(code, __file__, '\"'\"'exec'\"'\"'))' egg_info --egg-base 'C:\\Users\\POTATO\\AppData\\Local\\Temp\\pip-pip-egg-info-5q7aszo1'\n",
      "         cwd: C:\\Users\\POTATO\\AppData\\Local\\Temp\\pip-install-stttl4ir\\novas_a6ff9efad3e34af596f2e14991d81e61\\\n",
      "    Complete output (7 lines):\n",
      "    Traceback (most recent call last):\n",
      "      File \"<string>\", line 1, in <module>\n",
      "      File \"C:\\Users\\POTATO\\AppData\\Local\\Temp\\pip-install-stttl4ir\\novas_a6ff9efad3e34af596f2e14991d81e61\\setup.py\", line 213, in <module>\n",
      "        main()\n",
      "      File \"C:\\Users\\POTATO\\AppData\\Local\\Temp\\pip-install-stttl4ir\\novas_a6ff9efad3e34af596f2e14991d81e61\\setup.py\", line 141, in main\n",
      "        raise OSError(\"Operating system not supported at this time\")\n",
      "    OSError: Operating system not supported at this time\n",
      "    ----------------------------------------\n",
      "WARNING: Discarding https://files.pythonhosted.org/packages/f4/ca/10c41395cda773e0e095a9b0305dd00075f7a572c5594e9518fe4debd85c/novas-3.1.1.1.tar.gz#sha256=8f83a1899cb447a7acdb5b750fa615d226f30e294d5741e10d14e4be66055fe3 (from https://pypi.org/simple/novas/). Command errored out with exit status 1: python setup.py egg_info Check the logs for full command output.\n",
      "    ERROR: Command errored out with exit status 1:\n",
      "     command: 'C:\\Users\\POTATO\\.conda\\envs\\pyton\\python.exe' -c 'import sys, setuptools, tokenize; sys.argv[0] = '\"'\"'C:\\\\Users\\\\POTATO\\\\AppData\\\\Local\\\\Temp\\\\pip-install-stttl4ir\\\\novas_5caab5377b2d40eca77aaf5bfffaf34e\\\\setup.py'\"'\"'; __file__='\"'\"'C:\\\\Users\\\\POTATO\\\\AppData\\\\Local\\\\Temp\\\\pip-install-stttl4ir\\\\novas_5caab5377b2d40eca77aaf5bfffaf34e\\\\setup.py'\"'\"';f=getattr(tokenize, '\"'\"'open'\"'\"', open)(__file__);code=f.read().replace('\"'\"'\\r\\n'\"'\"', '\"'\"'\\n'\"'\"');f.close();exec(compile(code, __file__, '\"'\"'exec'\"'\"'))' egg_info --egg-base 'C:\\Users\\POTATO\\AppData\\Local\\Temp\\pip-pip-egg-info-qy40uthk'\n",
      "         cwd: C:\\Users\\POTATO\\AppData\\Local\\Temp\\pip-install-stttl4ir\\novas_5caab5377b2d40eca77aaf5bfffaf34e\\\n",
      "    Complete output (7 lines):\n",
      "    Traceback (most recent call last):\n",
      "      File \"<string>\", line 1, in <module>\n",
      "      File \"C:\\Users\\POTATO\\AppData\\Local\\Temp\\pip-install-stttl4ir\\novas_5caab5377b2d40eca77aaf5bfffaf34e\\setup.py\", line 211, in <module>\n",
      "        main()\n",
      "      File \"C:\\Users\\POTATO\\AppData\\Local\\Temp\\pip-install-stttl4ir\\novas_5caab5377b2d40eca77aaf5bfffaf34e\\setup.py\", line 140, in main\n",
      "        raise OSError(\"Operating system not supported at this time\")\n",
      "    OSError: Operating system not supported at this time\n",
      "    ----------------------------------------\n",
      "WARNING: Discarding https://files.pythonhosted.org/packages/6c/6f/9c11a148e744fc9450af3b316c52f5ff0fe3d86e6b4885f3b82aeb67d4f8/novas-3.1.1.tar.gz#sha256=0e120c325c6d96ad6790d7ebf58231bbb4d22ed0d4ec2d1ce72465598989e2d7 (from https://pypi.org/simple/novas/). Command errored out with exit status 1: python setup.py egg_info Check the logs for full command output.\n",
      "    ERROR: Command errored out with exit status 1:\n",
      "     command: 'C:\\Users\\POTATO\\.conda\\envs\\pyton\\python.exe' -c 'import sys, setuptools, tokenize; sys.argv[0] = '\"'\"'C:\\\\Users\\\\POTATO\\\\AppData\\\\Local\\\\Temp\\\\pip-install-stttl4ir\\\\novas_8a81e6e06ed94518b522f892b4eee2ba\\\\setup.py'\"'\"'; __file__='\"'\"'C:\\\\Users\\\\POTATO\\\\AppData\\\\Local\\\\Temp\\\\pip-install-stttl4ir\\\\novas_8a81e6e06ed94518b522f892b4eee2ba\\\\setup.py'\"'\"';f=getattr(tokenize, '\"'\"'open'\"'\"', open)(__file__);code=f.read().replace('\"'\"'\\r\\n'\"'\"', '\"'\"'\\n'\"'\"');f.close();exec(compile(code, __file__, '\"'\"'exec'\"'\"'))' egg_info --egg-base 'C:\\Users\\POTATO\\AppData\\Local\\Temp\\pip-pip-egg-info-w4tyco4h'\n",
      "         cwd: C:\\Users\\POTATO\\AppData\\Local\\Temp\\pip-install-stttl4ir\\novas_8a81e6e06ed94518b522f892b4eee2ba\\\n",
      "    Complete output (8 lines):\n",
      "    Traceback (most recent call last):\n",
      "      File \"<string>\", line 1, in <module>\n",
      "      File \"C:\\Users\\POTATO\\AppData\\Local\\Temp\\pip-install-stttl4ir\\novas_8a81e6e06ed94518b522f892b4eee2ba\\setup.py\", line 10, in <module>\n",
      "        from asc2eph import *\n",
      "      File \"C:\\Users\\POTATO\\AppData\\Local\\Temp\\pip-install-stttl4ir\\novas_8a81e6e06ed94518b522f892b4eee2ba\\asc2eph.py\", line 15\n",
      "        print \"Retrieving list of ephemeris files\"\n",
      "              ^\n",
      "    SyntaxError: Missing parentheses in call to 'print'. Did you mean print(\"Retrieving list of ephemeris files\")?\n",
      "    ----------------------------------------\n",
      "WARNING: Discarding https://files.pythonhosted.org/packages/99/b5/9c9e25429d8917711395a1174b935725229060323426b0955f58e67bcc68/novas-3.1.tar.gz#sha256=05346e560d86d95e74494a9ee4f00a4c69961ba7402c9b7a200c095aad3b3fc8 (from https://pypi.org/simple/novas/). Command errored out with exit status 1: python setup.py egg_info Check the logs for full command output.\n",
      "ERROR: Could not find a version that satisfies the requirement novas\n",
      "ERROR: No matching distribution found for novas\n"
     ]
    }
   ],
   "source": [
    "pip install novas"
   ]
  },
  {
   "cell_type": "code",
   "execution_count": 10,
   "id": "double-introduction",
   "metadata": {},
   "outputs": [
    {
     "name": "stdout",
     "output_type": "stream",
     "text": [
      "Collecting requests==2.6.0\n",
      "  Using cached requests-2.6.0-py2.py3-none-any.whl (469 kB)\n",
      "Installing collected packages: requests\n",
      "  Attempting uninstall: requests\n",
      "    Found existing installation: requests 2.25.1\n",
      "    Uninstalling requests-2.25.1:\n",
      "      Successfully uninstalled requests-2.25.1\n",
      "Successfully installed requests-2.6.0\n",
      "Note: you may need to restart the kernel to use updated packages.\n"
     ]
    }
   ],
   "source": [
    "pip install requests==2.6.0"
   ]
  },
  {
   "cell_type": "code",
   "execution_count": 11,
   "id": "every-worker",
   "metadata": {},
   "outputs": [
    {
     "name": "stdout",
     "output_type": "stream",
     "text": [
      "Requirement already satisfied: requests in c:\\users\\potato\\.conda\\envs\\pyton\\lib\\site-packages (2.6.0)\n",
      "Collecting requests\n",
      "  Using cached requests-2.25.1-py2.py3-none-any.whl (61 kB)\n",
      "Requirement already satisfied: idna<3,>=2.5 in c:\\users\\potato\\.conda\\envs\\pyton\\lib\\site-packages (from requests) (2.10)\n",
      "Requirement already satisfied: certifi>=2017.4.17 in c:\\users\\potato\\.conda\\envs\\pyton\\lib\\site-packages (from requests) (2020.12.5)\n",
      "Requirement already satisfied: chardet<5,>=3.0.2 in c:\\users\\potato\\.conda\\envs\\pyton\\lib\\site-packages (from requests) (4.0.0)\n",
      "Requirement already satisfied: urllib3<1.27,>=1.21.1 in c:\\users\\potato\\.conda\\envs\\pyton\\lib\\site-packages (from requests) (1.26.3)\n",
      "Installing collected packages: requests\n",
      "  Attempting uninstall: requests\n",
      "    Found existing installation: requests 2.6.0\n",
      "    Uninstalling requests-2.6.0:\n",
      "      Successfully uninstalled requests-2.6.0\n",
      "Successfully installed requests-2.25.1\n",
      "Note: you may need to restart the kernel to use updated packages.\n"
     ]
    }
   ],
   "source": [
    "pip install --upgrade requests"
   ]
  },
  {
   "cell_type": "code",
   "execution_count": 12,
   "id": "composite-willow",
   "metadata": {},
   "outputs": [
    {
     "name": "stdout",
     "output_type": "stream",
     "text": [
      "Name: requests\n",
      "Version: 2.25.1\n",
      "Summary: Python HTTP for Humans.\n",
      "Home-page: https://requests.readthedocs.io\n",
      "Author: Kenneth Reitz\n",
      "Author-email: me@kennethreitz.org\n",
      "License: Apache 2.0\n",
      "Location: c:\\users\\potato\\.conda\\envs\\pyton\\lib\\site-packages\n",
      "Requires: idna, certifi, chardet, urllib3\n",
      "Required-by: jupyterlab-server\n",
      "Note: you may need to restart the kernel to use updated packages.\n"
     ]
    }
   ],
   "source": [
    "pip show requests"
   ]
  },
  {
   "cell_type": "code",
   "execution_count": 14,
   "id": "bizarre-olympus",
   "metadata": {},
   "outputs": [
    {
     "name": "stdout",
     "output_type": "stream",
     "text": [
      "Note: you may need to restart the kernel to use updated packages.\n"
     ]
    }
   ],
   "source": [
    "pip freeze > requirements.txt"
   ]
  },
  {
   "cell_type": "code",
   "execution_count": 16,
   "id": "appreciated-poetry",
   "metadata": {},
   "outputs": [
    {
     "ename": "NameError",
     "evalue": "name 'requirements' is not defined",
     "output_type": "error",
     "traceback": [
      "\u001b[1;31m---------------------------------------------------------------------------\u001b[0m",
      "\u001b[1;31mNameError\u001b[0m                                 Traceback (most recent call last)",
      "\u001b[1;32m<ipython-input-16-3eae29180cc7>\u001b[0m in \u001b[0;36m<module>\u001b[1;34m\u001b[0m\n\u001b[1;32m----> 1\u001b[1;33m \u001b[0mrequirements\u001b[0m\u001b[1;33m.\u001b[0m\u001b[0mtxt\u001b[0m\u001b[1;33m\u001b[0m\u001b[1;33m\u001b[0m\u001b[0m\n\u001b[0m",
      "\u001b[1;31mNameError\u001b[0m: name 'requirements' is not defined"
     ]
    }
   ],
   "source": [
    "requirements.txt"
   ]
  },
  {
   "cell_type": "code",
   "execution_count": 17,
   "id": "senior-introduction",
   "metadata": {},
   "outputs": [
    {
     "name": "stdout",
     "output_type": "stream",
     "text": [
      "Processing c:\\ci\\argon2-cffi_1613037959010\\workNote: you may need to restart the kernel to use updated packages.\n"
     ]
    },
    {
     "name": "stderr",
     "output_type": "stream",
     "text": [
      "ERROR: Could not install packages due to an OSError: [Errno 2] No such file or directory: 'C:\\\\ci\\\\argon2-cffi_1613037959010\\\\work'\n",
      "\n"
     ]
    },
    {
     "name": "stdout",
     "output_type": "stream",
     "text": [
      "\n"
     ]
    }
   ],
   "source": [
    "pip install -r requirements.txt"
   ]
  },
  {
   "cell_type": "code",
   "execution_count": null,
   "id": "figured-exploration",
   "metadata": {},
   "outputs": [],
   "source": []
  }
 ],
 "metadata": {
  "kernelspec": {
   "display_name": "Python 3",
   "language": "python",
   "name": "python3"
  },
  "language_info": {
   "codemirror_mode": {
    "name": "ipython",
    "version": 3
   },
   "file_extension": ".py",
   "mimetype": "text/x-python",
   "name": "python",
   "nbconvert_exporter": "python",
   "pygments_lexer": "ipython3",
   "version": "3.8.8"
  }
 },
 "nbformat": 4,
 "nbformat_minor": 5
}
